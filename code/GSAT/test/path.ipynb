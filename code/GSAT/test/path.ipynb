{
 "cells": [
  {
   "cell_type": "code",
   "execution_count": 3,
   "id": "f9b4d830-b177-40af-ac54-0e2bafc2fa13",
   "metadata": {
    "ExecutionIndicator": {
     "show": true
    },
    "execution": {
     "iopub.execute_input": "2023-02-23T10:55:47.311269Z",
     "iopub.status.busy": "2023-02-23T10:55:47.310798Z",
     "iopub.status.idle": "2023-02-23T10:55:47.314744Z",
     "shell.execute_reply": "2023-02-23T10:55:47.314120Z",
     "shell.execute_reply.started": "2023-02-23T10:55:47.311239Z"
    },
    "tags": []
   },
   "outputs": [],
   "source": [
    "from pathlib import Path"
   ]
  },
  {
   "cell_type": "code",
   "execution_count": 4,
   "id": "c2379048-441b-4840-a715-77932e61b147",
   "metadata": {
    "execution": {
     "iopub.execute_input": "2023-02-23T10:55:48.202757Z",
     "iopub.status.busy": "2023-02-23T10:55:48.201869Z",
     "iopub.status.idle": "2023-02-23T10:55:48.206111Z",
     "shell.execute_reply": "2023-02-23T10:55:48.205503Z",
     "shell.execute_reply.started": "2023-02-23T10:55:48.202720Z"
    },
    "tags": []
   },
   "outputs": [],
   "source": [
    "d = Path('..')"
   ]
  },
  {
   "cell_type": "code",
   "execution_count": 6,
   "id": "60c69afc-dee8-4b6e-9087-f40161968e49",
   "metadata": {
    "ExecutionIndicator": {
     "show": true
    },
    "execution": {
     "iopub.execute_input": "2023-02-23T10:55:55.742197Z",
     "iopub.status.busy": "2023-02-23T10:55:55.741223Z",
     "iopub.status.idle": "2023-02-23T10:55:55.751089Z",
     "shell.execute_reply": "2023-02-23T10:55:55.750383Z",
     "shell.execute_reply.started": "2023-02-23T10:55:55.742148Z"
    },
    "tags": []
   },
   "outputs": [
    {
     "data": {
      "text/plain": [
       "PosixPath('../src')"
      ]
     },
     "execution_count": 6,
     "metadata": {},
     "output_type": "execute_result"
    }
   ],
   "source": [
    "d / 'src'"
   ]
  }
 ],
 "metadata": {
  "kernelspec": {
   "display_name": "pyg2.2",
   "language": "python",
   "name": "env_giae"
  },
  "language_info": {
   "codemirror_mode": {
    "name": "ipython",
    "version": 3
   },
   "file_extension": ".py",
   "mimetype": "text/x-python",
   "name": "python",
   "nbconvert_exporter": "python",
   "pygments_lexer": "ipython3",
   "version": "3.9.15"
  }
 },
 "nbformat": 4,
 "nbformat_minor": 5
}
